{
 "cells": [
  {
   "cell_type": "markdown",
   "metadata": {},
   "source": [
    "## LaTeX排版速成"
   ]
  },
  {
   "cell_type": "markdown",
   "metadata": {},
   "source": [
    "### 1. 基本原理"
   ]
  },
  {
   "cell_type": "markdown",
   "metadata": {},
   "source": [
    "#### 1.1 TeX Live + TeXstudio的区别与联系\n",
    "\n",
    "\n",
    "LaTeX有众多版本，比较出名的有CTeX, TeX Live, 和MacTeX。  \n",
    "通常来讲：\n",
    "* TeX Live -- Windows\n",
    "* MacTeX -- Mac\n",
    "* CTeX专为中文开发，但年久失修，维护跟不上，不推荐  \n",
    "\n",
    "我们常用的Windows电脑，推荐安装TeX Live  \n",
    "假如把TeX Live比作C语言的话，那TeXstudio就相当于VC++6.0  "
   ]
  },
  {
   "cell_type": "markdown",
   "metadata": {},
   "source": [
    "LaTeX与C语言有许多相似之处，比如LaTeX中导入的库称为“宏包” ，我们可以使用宏包定义的命令（相当于C语言库函数） "
   ]
  },
  {
   "attachments": {},
   "cell_type": "markdown",
   "metadata": {},
   "source": [
    "![](./pics/1.1.png)"
   ]
  },
  {
   "cell_type": "markdown",
   "metadata": {},
   "source": [
    "#### 1.2 LaTeX环境\n",
    "LaTeX语句常常需要环境的包裹与嵌套（\\begin……\\end）  \n",
    "比如整个LaTeX正文存在于```\\begin{document} …… \\end{document}```之间，其中可以嵌套任意多环境，下图为示例"
   ]
  },
  {
   "attachments": {},
   "cell_type": "markdown",
   "metadata": {},
   "source": [
    "![](./pics/1.2.png)"
   ]
  },
  {
   "cell_type": "markdown",
   "metadata": {},
   "source": [
    "#### 1.3 下载\n",
    "都是免费的，随搜随下，推荐官网下载  \n",
    "TeX Live较大，下载与安装需要耐心等待\n",
    "\n",
    "TeX Live: http://tug.org/texlive/  \n",
    "TeXstudio: http://texstudio.sourceforge.net/"
   ]
  },
  {
   "cell_type": "markdown",
   "metadata": {},
   "source": [
    "#### 1.4 模板\n",
    "期刊/会议通常都拥有自己的模板，只需要将对应部分替换为文章内容即可。所以关于LaTeX的环境了解即可，不需要从头创建文件。  \n",
    "但要注意投稿前阅读投稿要求，比如摘要字数限制、页数限制、参考文献格式等，有些要求也会在模板注释中体现，注意观察。"
   ]
  },
  {
   "cell_type": "markdown",
   "metadata": {},
   "source": [
    "### 2. 子标题与列表"
   ]
  },
  {
   "cell_type": "markdown",
   "metadata": {},
   "source": [
    "子标题通常分为三级，分别是  \n",
    "* \\section{爸爸}\n",
    "* \\subsection{儿子}\n",
    "* \\subsubsection{孙子}\n",
    "\n",
    "再往下不支持更小的标题了，但如果确实需要，可以用列表表示。  \n"
   ]
  },
  {
   "cell_type": "markdown",
   "metadata": {},
   "source": [
    "列表通常分为两种，豆豆的和数字的：  \n",
    "\n",
    " ```\\begin{itemize}  \n",
    "    \\item 这是豆豆1  \n",
    "    \\item 这是豆豆2  \n",
    " \\end{itemize} ``` \n",
    "\n",
    "* 这是豆豆1\n",
    "* 这是豆豆2 "
   ]
  },
  {
   "attachments": {},
   "cell_type": "markdown",
   "metadata": {},
   "source": [
    "![](./pics/2.png)"
   ]
  },
  {
   "cell_type": "markdown",
   "metadata": {},
   "source": [
    "``` \\begin{enumerate}  \n",
    "    \\item 这是数字1  \n",
    "    \\item 这是数字2  \n",
    " \\end{enumerate}```\n",
    "\n",
    "1. 这是数字1  \n",
    "2. 这是数字2"
   ]
  },
  {
   "attachments": {},
   "cell_type": "markdown",
   "metadata": {},
   "source": [
    "![](./pics/2.1.png)"
   ]
  },
  {
   "cell_type": "markdown",
   "metadata": {},
   "source": [
    "### 3 参考文献"
   ]
  },
  {
   "attachments": {},
   "cell_type": "markdown",
   "metadata": {},
   "source": [
    "#### 3.1 手动方式\n",
    "手动方式即在文章对应位置，手动添加Reference，文章会完全按照源码的顺序与数量显示参考文献，比如：    \n",
    "```\n",
    "\\begin{thebibliography}{00}\n",
    "\n",
    "\\bibitem{rnn} Rumelhart, David E., Geoffrey E. Hinton, and Ronald J. Williams. \"Learning representations by back-propagating errors.\" nature 323.6088 (1986): 533-536.\n",
    "\\bibitem{lstm} Hochreiter, Sepp, and Jürgen Schmidhuber. \"Long short-term memory.\" Neural computation 9.8 (1997): 1735-1780.\n",
    "\\bibitem{seq2seq} Sutskever, Ilya, Oriol Vinyals, and Quoc V. Le. \"Sequence to sequence learning with neural networks.\" Advances in neural information processing systems. 2014.\n",
    "\\bibitem{transformer} Vaswani, Ashish, et al. \"Attention is all you need.\" Advances in neural information processing systems. 2017.\n",
    "\\bibitem{ref2} Loyola, Pablo, Edison Marrese-Taylor, and Yutaka Matsuo. \"A Neural Architecture for Generating Natural Language Descriptions from Source Code Changes.\" Proceedings of the 55th Annual Meeting of the Association for Computational Linguistics (Volume 2: Short Papers). 2017.\n",
    "...\n",
    "\n",
    "\\end{thebibliography}{00}\n",
    "```\n",
    "\n",
    "以下方参考文献为例  \n",
    "```\\bibitem{lstm} Hochreiter, Sepp, and Jürgen Schmidhuber. \"Long short-term memory.\" Neural computation 9.8 (1997): 1735-1780.```  \n",
    "共分为两个部分： 引用名和详细信息  \n",
    "引用名相当于给文献起小名，只要各个文献小名不重复，可以用任意字符表示，比如上方的`lstm`，起好的小名可以方便后续使用\n"
   ]
  },
  {
   "cell_type": "markdown",
   "metadata": {},
   "source": [
    "此类参考文献引用可通过谷歌学术查找："
   ]
  },
  {
   "attachments": {},
   "cell_type": "markdown",
   "metadata": {},
   "source": [
    "![](./pics/3.11.png)"
   ]
  },
  {
   "attachments": {},
   "cell_type": "markdown",
   "metadata": {},
   "source": [
    "![](./pics/3.12.png)"
   ]
  },
  {
   "cell_type": "markdown",
   "metadata": {},
   "source": [
    "注意三种引用格式的区别，这也是为什么写论文前要阅读投稿要求\n",
    "\n",
    "> 1. GB/T 7714：（我国）国家标准的代号由大写汉语拼音字母构成。 强制性国家标准的代号为\"GB\"，推荐性国家标准的代号为\"GB/T\"。 国家标准的编号由国家标准的代号、国家标准发布的顺序号和国家标准发布的年号(即发布年份的后两位数字)构成。示例： GB×××× GB/T××××。  \n",
    "> 2. APA格式是一个为广泛接受的研究论文撰写格式，特别针对社会科学领域的研究，规范学术文献的引用和参考文献的撰写方法，以及表格、图表、注脚和附录的编排方式。  \n",
    "> 3. MLA（Modern Language Association）偏重人文学科，是一种常用的引用格式,为美国现代语言协会制定的论文指导格式，在一般书写英语论文时应当使用MLA格式来保证学术著作的完整。MLA格式（The MLA Style Manual），主要被应用在人文学科，如文学、比较文学、文学批评和文化研究。"
   ]
  },
  {
   "cell_type": "markdown",
   "metadata": {},
   "source": [
    "#### 3.2 自动方式（引用文件）\n",
    "自动方式是通过链接引用文件实现的，可以将引用文件(ref.bib)看做一个数据库，凡是在文章中出现的引用，文件末尾会自动添加。\n",
    "所指定的参考文献style不同，生成的Reference也略有不同，如文献顺序按引用顺序or首字母or年份……  \n",
    "> 不同样式详细区别可以参阅 https://www.jianshu.com/p/2e18415cfa72"
   ]
  },
  {
   "cell_type": "markdown",
   "metadata": {},
   "source": [
    "正文中的代码也很简洁\n",
    "```\n",
    "\\bibliographystyle{unsrt}  % 引用样式 \n",
    "\\bibliography{ref.bib}     % 文件名\n",
    "```  "
   ]
  },
  {
   "cell_type": "markdown",
   "metadata": {},
   "source": [
    "ref.bib文件格式如下：  \n",
    ">```\n",
    "@article{PuschelM,\n",
    "  title={SPIRAL: Code generation for DSP transforms},\n",
    "  author={Puschel, Markus and Moura, Jos{\\'e} MF and Johnson, Jeremy R and Padua, David and Veloso, Manuela M and Singer, Bryan W and Xiong, Jianxin and Franchetti, Franz and Gacic, Aca and Voronenko, Yevgen and others},\n",
    "  journal={Proceedings of the IEEE},\n",
    "  volume={93},\n",
    "  number={2},\n",
    "  pages={232--275},\n",
    "  year={2005},\n",
    "  publisher={IEEE}\n",
    "}\n",
    "@inproceedings{LeupersR,\n",
    "  title={Code generation for embedded processors},\n",
    "  author={Leupers, Rainer},\n",
    "  booktitle={Proceedings 13th International Symposium on System Synthesis},\n",
    "  pages={173--178},\n",
    "  year={2000},\n",
    "  organization={IEEE}\n",
    "}\n",
    "@inproceedings{SunZ,\n",
    "  title={A grammar-based structural cnn decoder for code generation},\n",
    "  author={Sun, Zeyu and Zhu, Qihao and Mou, Lili and Xiong, Yingfei and Li, Ge and Zhang, Lu},\n",
    "  booktitle={Proceedings of the AAAI Conference on Artificial Intelligence},\n",
    "  volume={33},\n",
    "  pages={7055--7062},\n",
    "  year={2019}\n",
    "}\n",
    "@inproceedings{kKellyW,\n",
    "  title={Code generation for multiple mappings},\n",
    "  author={Kelly, Wayne and Pugh, William and Rosser, Evan},\n",
    "  booktitle={Proceedings Frontiers' 95. The Fifth Symposium on the Frontiers of Massively Parallel Computation},\n",
    "  pages={332--341},\n",
    "  year={1995},\n",
    "  organization={IEEE}\n",
    "}\n",
    ">```\n",
    "\n",
    "可以看到一篇文献被拆分成了字典样式信息集合，这样可以方便不同style自动生成参考文献。"
   ]
  },
  {
   "cell_type": "markdown",
   "metadata": {},
   "source": [
    "此类引用需要使用BibTeX的格式\n",
    "> ```\n",
    "@inproceedings{vaswani2017attention,\n",
    "  title={Attention is all you need},\n",
    "  author={Vaswani, Ashish and Shazeer, Noam and Parmar, Niki and Uszkoreit, Jakob and Jones, Llion and Gomez, Aidan N and Kaiser, {\\L}ukasz and Polosukhin, Illia},\n",
    "  booktitle={Advances in neural information processing systems},\n",
    "  pages={5998--6008},\n",
    "  year={2017}\n",
    "}```\n",
    "\n",
    "\n",
    "其中`vaswani2017attention`相当于该文献的小名，也可以根据个人需要修改"
   ]
  },
  {
   "attachments": {},
   "cell_type": "markdown",
   "metadata": {},
   "source": [
    "![](./pics/3.13.png)"
   ]
  },
  {
   "cell_type": "markdown",
   "metadata": {},
   "source": [
    "### 4. 引用"
   ]
  },
  {
   "attachments": {},
   "cell_type": "markdown",
   "metadata": {},
   "source": [
    "#### 4.1 公式、表格、图片、标题的引用（\\\\ref）\n",
    "公式、表格、图片、标题的引用方式相同：  \n",
    "1. 在原文处添加`\\label{引用名}`  \n",
    "2. 在需要的地方添加引用`ref{引用名}`  \n",
    "\n",
    "比如"
   ]
  },
  {
   "attachments": {},
   "cell_type": "markdown",
   "metadata": {},
   "source": [
    "在源素材处添加标签\n",
    "![](./pics/4.11.png)\n"
   ]
  },
  {
   "attachments": {},
   "cell_type": "markdown",
   "metadata": {},
   "source": [
    "在需要的地方添加引用\n",
    "![](./pics/4.12.png)"
   ]
  },
  {
   "attachments": {},
   "cell_type": "markdown",
   "metadata": {},
   "source": [
    "![](./pics/4.13.png)"
   ]
  },
  {
   "cell_type": "markdown",
   "metadata": {},
   "source": [
    "\n",
    "其中引用名有约定俗成的命名规范，比如  \n",
    "* 表格 - `\\label{tab:terms}`\n",
    "* 图片 - `\\label{fig:data structureE}`\n",
    "* 公式 - `\\label{equ:attention}`\n",
    "* 标题 - `\\label{sec:embedder}`\n",
    "\n",
    "遵守规范可以避免很多不必要的错误"
   ]
  },
  {
   "cell_type": "markdown",
   "metadata": {},
   "source": [
    "#### 4.2 参考文献的引用（\\\\cite）\n",
    "直接引用参考文献的小名`\\cite{引用名}`"
   ]
  },
  {
   "attachments": {},
   "cell_type": "markdown",
   "metadata": {},
   "source": [
    "![](./pics/4.21.png)"
   ]
  },
  {
   "attachments": {},
   "cell_type": "markdown",
   "metadata": {},
   "source": [
    "![](./pics/4.22.png)"
   ]
  },
  {
   "attachments": {},
   "cell_type": "markdown",
   "metadata": {},
   "source": [
    "#### 4.3 超链接\n",
    "通过`\\url{链接地址}`添加超链接\n",
    "![](./pics/4.3.png)"
   ]
  },
  {
   "cell_type": "markdown",
   "metadata": {},
   "source": [
    "### 5. 公式"
   ]
  },
  {
   "cell_type": "markdown",
   "metadata": {},
   "source": [
    "#### 5.1 句内公式、句外公式\n",
    "句内公式通过两个美元符号`$公式$`表示  \n",
    "> 这是一个句内公式 $ a^2+b^2 = c^2 $  \n",
    "\n",
    "句外公式通过两个美元符号`$$公式$$`表示\n",
    "> 这是一个句外公式 $$ a^2+b^2 = c^2 $$"
   ]
  },
  {
   "cell_type": "markdown",
   "metadata": {},
   "source": [
    "#### 5.2 公式环境与标号\n",
    "推荐使用的句外公式应包含在公式环境中，如\n",
    "> ``` \n",
    "\\begin{equation}\n",
    "    \\delta_i = k_i + PE_{pos},\n",
    "\\end{equation}```\n",
    "\n",
    "显示效果为\n",
    "\\begin{equation}\n",
    "\t\t\\delta_i = k_i + PE_{pos},\n",
    "\t\\end{equation}\n",
    "    \n",
    "通过环境包裹的公式可以自动为公式标号，  \n",
    "\n",
    "当然，如果不需要为公式标号，可以在环境后加`\\nonumber`命令\n",
    "> ``` \n",
    "\\begin{equation}\\nonumber\n",
    "    \\delta_i = k_i + PE_{pos},\n",
    "\\end{equation}```"
   ]
  },
  {
   "cell_type": "markdown",
   "metadata": {},
   "source": [
    "#### 5.3 常用公式命令\n",
    "常用的有：  \n",
    "* 平方`a^2` -> $a^2$  \n",
    "* 角标`a^2_i` -> $a^2_i$  \n",
    "* 多个字符用`{}`包裹`a^{b_3}_{i_5}` -> $a^{b_3}_{i_5}$  \n",
    "* 分数`\\frac{a}{b}` -> $\\frac{a}{b}$\n",
    "* 省略号`a_1, a_2, \\dots, a_n` -> $a_1, a_2, \\dots, a_n$ (省略号请勿使用三个句号代替)\n",
    "* 点乘`a \\cdot b` -> $a \\cdot b$ (矩阵点乘不可以用`*`代替)\n",
    "* 希腊字母 `\\Pi + \\pi` -> $\\Pi + \\pi$ (注意大小写)\n",
    "\n",
    "> 更多符号请参考： https://blog.csdn.net/garfielder007/article/details/51646604"
   ]
  },
  {
   "cell_type": "markdown",
   "metadata": {},
   "source": [
    "### 6. 字体"
   ]
  },
  {
   "cell_type": "markdown",
   "metadata": {},
   "source": [
    "#### 6.1 加粗、斜体、打印体\n",
    "* `\\textbf{加粗}` -> **加粗** \n",
    "* `\\textit{斜体}` -> *斜体*\n",
    "* `\\underline{下划线}`\n",
    "* `\\texttt{打印体}`"
   ]
  },
  {
   "attachments": {},
   "cell_type": "markdown",
   "metadata": {},
   "source": [
    "![](./pics/6.1.png)"
   ]
  },
  {
   "cell_type": "markdown",
   "metadata": {},
   "source": [
    "#### 6.2 对齐方式\n",
    "分别有两种形式，  \n",
    "一种是环境形式 center, flushleft, flushright，(begin/end)  \n",
    "一种是命令形式 `\\centering`（居中）, `\\raggedright`（左对齐）, `\\raggedleft`（右对齐），`\\justifying`（两端对齐）。  \n",
    "与命令形式不同，环境形式会插入新段落，如果不希望插入新段落，就得使用命令形式。命令形式通常配合环境使用，限制有效范围在环境内。  \n",
    "还要注意的是，与flushleft 对应的是 raggedright，与 flushright 对应的是 raggedleft，不要搞反了。"
   ]
  },
  {
   "cell_type": "markdown",
   "metadata": {},
   "source": [
    "#### 6.3 字体颜色与高亮\n",
    "\n",
    "字体颜色\n",
    ">`\\usepackage{color}`  \n",
    ">方式1： `\\color{red} 文本`  \n",
    ">方式2： `\\textcolor[rgb]{1,0,0}{文本}  颜色参数范围为[0,1]`  \n",
    "\n",
    "高亮 \n",
    "> `\\usepackage{soul}`    % 高亮宏包  \n",
    "> `\\soulregister\\cite7`  % 引用不中断  \n",
    "> `\\soulregister\\ref7`  % 引用不中断  \n",
    "> 高亮方式：`\\hl{高亮文字}`\n",
    "\n",
    "高亮公式比较特殊\n",
    "> `\\newcommand{\\mathcolorbox}[2]{\\colorbox{#1}{$\\displaystyle #2$}}`  % 定义新的宏命令\\mathcolorbox  \n",
    "> ```\\begin{equation}\n",
    " \\mathcolorbox{yellow}{Z_p = MultiHead(K_E, V_E, Q), }\n",
    " \\end{equation}```"
   ]
  },
  {
   "cell_type": "markdown",
   "metadata": {},
   "source": [
    "#### 6.4 删除线\n",
    "\n",
    "> `\\usepackage{ulem}`  \n",
    "> `\\sout{要删除的文字}`"
   ]
  },
  {
   "cell_type": "markdown",
   "metadata": {},
   "source": [
    "### 7. 表格"
   ]
  },
  {
   "cell_type": "markdown",
   "metadata": {},
   "source": [
    "#### 7.0 插入表格\n",
    "从Excel中通过Excel2Latex插件粘贴代码"
   ]
  },
  {
   "cell_type": "markdown",
   "metadata": {},
   "source": [
    "#### 7.1 对齐方式\n",
    "l=left左对齐  \n",
    "r=right右对齐  \n",
    "c=center居中对齐  \n",
    "p可以指定列宽，默认左对齐，如果需要指定列宽的同时右对齐，可以使用`p{25px}<{\\raggedleft}`  "
   ]
  },
  {
   "attachments": {},
   "cell_type": "markdown",
   "metadata": {},
   "source": [
    "![](./pics/7.1.png)"
   ]
  },
  {
   "cell_type": "markdown",
   "metadata": {},
   "source": [
    "#### 7.2 表格太窄或太宽怎么办\n",
    "通过指定`begin{table*}`可以指定表格宽度=页面宽  \n",
    "修改表格对齐方式为p，通过调整列宽调整表格宽度  \n",
    "若表格实在过大，可以使用`resizebox`命令，会整体缩放表格文字大小"
   ]
  },
  {
   "attachments": {},
   "cell_type": "markdown",
   "metadata": {},
   "source": [
    "![](./pics/7.2.png)"
   ]
  },
  {
   "cell_type": "markdown",
   "metadata": {},
   "source": [
    "#### 7.3 表格注脚\n",
    "`\\usepackage{threeparttable}`  使用三线表环境"
   ]
  },
  {
   "attachments": {},
   "cell_type": "markdown",
   "metadata": {},
   "source": [
    "![](./pics/7.31.png)"
   ]
  },
  {
   "attachments": {},
   "cell_type": "markdown",
   "metadata": {},
   "source": [
    "![](./pics/7.32.png)"
   ]
  },
  {
   "cell_type": "markdown",
   "metadata": {},
   "source": [
    "### 8. 图片"
   ]
  },
  {
   "cell_type": "markdown",
   "metadata": {},
   "source": [
    "#### 8.0 插入图片\n",
    "复制模板代码，修改对应部分即可"
   ]
  },
  {
   "cell_type": "markdown",
   "metadata": {},
   "source": [
    "#### 8.1 图片大小的控制\n",
    "下图指定了图片宽度，也可以指定高度height  \n",
    "关于不同宽度：\n",
    "> * \\pagewidth: 包含了页边的宽度，比\\textwidth要大  \n",
    "> * \\linewidth: 这指得是目前环境的宽度，是依赖于上下文的一个宽度值，例如新建了一个box，在这个box中，\\linewidth是box中文字的宽度。再例如minipage环境中，\\linewidth就和这个minipage的大小有关.  \n",
    "> * \\columnwidth: 如果文章分栏的话，这个宽度就是每一栏的宽度。  "
   ]
  },
  {
   "attachments": {},
   "cell_type": "markdown",
   "metadata": {},
   "source": [
    "![](./pics/8.1.png)"
   ]
  },
  {
   "cell_type": "markdown",
   "metadata": {},
   "source": [
    "#### 8.2 子图\n",
    "子图可以实现一个大的图片标题下嵌套多个同主题小图，就这么用，没啥可说的，记得加载宏包`\\usepackage{subfigure}`  \n",
    "注意子图的换行可以用`\\\\`，也可以用两个回车"
   ]
  },
  {
   "attachments": {},
   "cell_type": "markdown",
   "metadata": {},
   "source": [
    "![](./pics/8.21.png)"
   ]
  },
  {
   "attachments": {},
   "cell_type": "markdown",
   "metadata": {},
   "source": [
    "![](./pics/8.22.png)"
   ]
  },
  {
   "cell_type": "markdown",
   "metadata": {},
   "source": [
    " "
   ]
  }
 ],
 "metadata": {
  "kernelspec": {
   "display_name": "Python 3",
   "language": "python",
   "name": "python3"
  },
  "language_info": {
   "codemirror_mode": {
    "name": "ipython",
    "version": 3
   },
   "file_extension": ".py",
   "mimetype": "text/x-python",
   "name": "python",
   "nbconvert_exporter": "python",
   "pygments_lexer": "ipython3",
   "version": "3.7.3"
  }
 },
 "nbformat": 4,
 "nbformat_minor": 2
}
